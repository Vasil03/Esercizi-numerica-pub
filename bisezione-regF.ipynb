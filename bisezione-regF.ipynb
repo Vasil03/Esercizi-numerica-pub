{
  "nbformat": 4,
  "nbformat_minor": 0,
  "metadata": {
    "colab": {
      "provenance": [],
      "authorship_tag": "ABX9TyPkH7sapvo7Y04OkKT5YcA4",
      "include_colab_link": true
    },
    "kernelspec": {
      "name": "python3",
      "display_name": "Python 3"
    },
    "language_info": {
      "name": "python"
    }
  },
  "cells": [
    {
      "cell_type": "markdown",
      "metadata": {
        "id": "view-in-github",
        "colab_type": "text"
      },
      "source": [
        "<a href=\"https://colab.research.google.com/github/Vasil03/Esercizi-numerica-pub/blob/main/bisezione-regF.ipynb\" target=\"_parent\"><img src=\"https://colab.research.google.com/assets/colab-badge.svg\" alt=\"Open In Colab\"/></a>"
      ]
    },
    {
      "cell_type": "code",
      "execution_count": 4,
      "metadata": {
        "id": "YIeSGtkSb5CD"
      },
      "outputs": [],
      "source": [
        "def f(x):\n",
        "  return x**2 - 2.0"
      ]
    },
    {
      "cell_type": "code",
      "source": [
        "import math\n",
        "\n",
        "xstar = math.sqrt(2)\n",
        "print(xstar, \" - \", f(xstar))\n",
        "\n",
        "#trova x xhe fa essere la funzione uguale a zero"
      ],
      "metadata": {
        "colab": {
          "base_uri": "https://localhost:8080/"
        },
        "id": "kpPgx6RtfJpi",
        "outputId": "85b344c6-85dd-468e-890e-6f335cad0809"
      },
      "execution_count": 5,
      "outputs": [
        {
          "output_type": "stream",
          "name": "stdout",
          "text": [
            "1.4142135623730951  -  4.440892098500626e-16\n"
          ]
        }
      ]
    },
    {
      "cell_type": "code",
      "source": [
        "import random\n",
        "\n",
        "x = random.uniform(0, 1000)\n",
        "print(x, f(x))\n",
        "\n",
        "#numero float casuale e sperando che esce funzione uguale a zero"
      ],
      "metadata": {
        "colab": {
          "base_uri": "https://localhost:8080/"
        },
        "id": "2AlXtCHpfuHz",
        "outputId": "6e9190fc-63e7-4b4a-8fa6-ca4daa19a162"
      },
      "execution_count": 9,
      "outputs": [
        {
          "output_type": "stream",
          "name": "stdout",
          "text": [
            "385.30126533345674 148455.06506756283\n"
          ]
        }
      ]
    },
    {
      "cell_type": "code",
      "source": [
        "a = 1.0\n",
        "b= 2.0\n",
        "\n",
        "print(\"a = \", a, \" f(a) = \", f(a))\n",
        "print(\"b = \", b, \" f(b) = \", f(b))\n",
        "print(a, \" <= x* <= \", b)\n",
        "\n",
        "#la funzione cambia segno fra questi due numero, vuol dire che molto probabilmente interseca l'asse delle x\n",
        "\n",
        "c= 1.5\n",
        "print(\"c = \", c, \" f(c) = \", f(c))\n",
        "print(a, \" <= x* <= \", c)\n",
        "d = 1.25\n",
        "print(\"d = \", d, \" f(d) = \", f(d))\n",
        "print(a, \" <= x* <= \", d)\n",
        "#bisezione, continuo a dimezzare finchè trovo quando la funzione è uguale a zero"
      ],
      "metadata": {
        "colab": {
          "base_uri": "https://localhost:8080/"
        },
        "id": "D6rvaO_KgffV",
        "outputId": "136a98bd-90c0-4859-b9dc-2434be32946a"
      },
      "execution_count": 15,
      "outputs": [
        {
          "output_type": "stream",
          "name": "stdout",
          "text": [
            "a =  1.0  f(a) =  -1.0\n",
            "b =  2.0  f(b) =  2.0\n",
            "1.0  <= x* <=  2.0\n",
            "c =  1.5  f(c) =  0.25\n",
            "1.0  <= x* <=  1.5\n",
            "d =  1.25  f(d) =  -0.4375\n",
            "1.0  <= x* <=  1.25\n"
          ]
        }
      ]
    },
    {
      "cell_type": "code",
      "source": [
        "a = 1.0\n",
        "b= 2.0\n",
        "print(\"Inizio: [a,b] = [\", a, \",\", b,\"]\")\n",
        "if f(a) * f(b) < 0:\n",
        "  for k in range(10):\n",
        "    c = a -(f(a)/((f(b) - f(a))/ (b - a)))\n",
        "    if f(a) * f(c) < 0:\n",
        "      b = c\n",
        "    else:\n",
        "      a = c\n",
        "    print(\"RF: [a,b] = [\", a, \",\", b,\"]\")\n",
        "    c = (a+b)/2\n",
        "    if f(a) * f(c) < 0:\n",
        "      b = c\n",
        "    else:\n",
        "      a = c\n",
        "    print(\"BS: [a,b] = [\", a, \",\", b,\"]\")\n",
        "print(\"xstar = \", math.sqrt(2))\n"
      ],
      "metadata": {
        "colab": {
          "base_uri": "https://localhost:8080/"
        },
        "id": "XoOJL1I-iZm7",
        "outputId": "069c5d6e-bd04-45fe-c9d9-befea88f0901"
      },
      "execution_count": 33,
      "outputs": [
        {
          "output_type": "stream",
          "name": "stdout",
          "text": [
            "Inizio: [a,b] = [ 1.0 , 2.0 ]\n",
            "RF: [a,b] = [ 1.3333333333333333 , 2.0 ]\n",
            "BS: [a,b] = [ 1.3333333333333333 , 1.6666666666666665 ]\n",
            "RF: [a,b] = [ 1.4074074074074074 , 1.6666666666666665 ]\n",
            "BS: [a,b] = [ 1.4074074074074074 , 1.537037037037037 ]\n",
            "RF: [a,b] = [ 1.4139296529233636 , 1.537037037037037 ]\n",
            "BS: [a,b] = [ 1.4139296529233636 , 1.4754833449802003 ]\n",
            "RF: [a,b] = [ 1.4142075420948317 , 1.4754833449802003 ]\n",
            "BS: [a,b] = [ 1.4142075420948317 , 1.444845443537516 ]\n",
            "RF: [a,b] = [ 1.4142134978718601 , 1.444845443537516 ]\n",
            "BS: [a,b] = [ 1.4142134978718601 , 1.4295294707046882 ]\n",
            "RF: [a,b] = [ 1.4142135620257026 , 1.4295294707046882 ]\n",
            "BS: [a,b] = [ 1.4142135620257026 , 1.4218715163651954 ]\n",
            "RF: [a,b] = [ 1.414213562372157 , 1.4218715163651954 ]\n",
            "BS: [a,b] = [ 1.414213562372157 , 1.4180425393686762 ]\n",
            "RF: [a,b] = [ 1.4142135623730938 , 1.4180425393686762 ]\n",
            "BS: [a,b] = [ 1.4142135623730938 , 1.416128050870885 ]\n",
            "RF: [a,b] = [ 1.4142135623730938 , 1.4142135623730951 ]\n",
            "BS: [a,b] = [ 1.4142135623730945 , 1.4142135623730951 ]\n",
            "RF: [a,b] = [ 1.414213562373095 , 1.4142135623730951 ]\n",
            "BS: [a,b] = [ 1.414213562373095 , 1.4142135623730951 ]\n",
            "xstar =  1.4142135623730951\n"
          ]
        }
      ]
    }
  ]
}